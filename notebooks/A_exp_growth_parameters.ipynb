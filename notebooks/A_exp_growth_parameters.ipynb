{
 "cells": [
  {
   "cell_type": "markdown",
   "metadata": {},
   "source": [
    "# Notebook A: Experimental Growth Parameter Calculations\n",
    "\n",
    "This Jupyter notebook is dedicated to the analysis and calculation of growth parameters for the olegenous yeast, <i>Y. lipolytica</i>, when grown with glucose, glycerol and oleic acid. \n",
    "\n",
    "### Objective\n",
    "The objective of this analysis is to provide a clear and quantifiable understanding of the how of the growth rates, yield coefficients, and substrate uptake rates were calculated. This is crucial for providing constraints for the later genome scale model analysis.\n",
    "\n",
    "### Important Functions\n",
    "`get_average_growth_parameters`\n",
    "This function computes the average growth parameters across multiple trials. This function leverages the get_trial_growth_parameters function for each trial and then averages the results.\n",
    "\n",
    "`get_trial_growth_parameters`\n",
    "This function calculates growth parameters for a single trial. It computes the growth rate, yield coefficient, and substrate uptake rate for a given trial number.\n",
    "\n",
    "### A note about oleic acid yield\n",
    "Due to difficulties in measuring the partially insoluable oleic acid, the oleic acid yield was determined based on the yields of glucose and glycerol. The process involved normalizing glucose and glycerol yields to a single carbon basis, averaging these values, and extrapolating to oleic acid's 18 carbons. The standard deviation was calculated in the same way"
   ]
  },
  {
   "cell_type": "markdown",
   "metadata": {},
   "source": [
    "### Load imports"
   ]
  },
  {
   "cell_type": "code",
   "execution_count": null,
   "metadata": {},
   "outputs": [],
   "source": [
    "import pandas as pd\n",
    "import sys\n",
    "\n",
    "source_dir = '../src'\n",
    "sys.path.append(source_dir)\n",
    "\n",
    "from growth_parameters.get_average_growth_parameters import get_average_growth_parameters"
   ]
  },
  {
   "cell_type": "markdown",
   "metadata": {},
   "source": [
    "### Load glucose growth curve data"
   ]
  },
  {
   "cell_type": "code",
   "execution_count": null,
   "metadata": {},
   "outputs": [],
   "source": [
    "# load glucose growth data\n",
    "glucose_growth_df = pd.read_csv('../data/growth_curves/glucose_growth_data.csv')\n",
    "\n",
    "glucose_growth_df"
   ]
  },
  {
   "cell_type": "markdown",
   "metadata": {},
   "source": [
    "### Get glucose growth parameters"
   ]
  },
  {
   "cell_type": "code",
   "execution_count": null,
   "metadata": {},
   "outputs": [],
   "source": [
    "glucose_growth_parameters = get_average_growth_parameters(growth_df=glucose_growth_df, substrate='glucose', molar_mass=180.16)"
   ]
  },
  {
   "cell_type": "markdown",
   "metadata": {},
   "source": [
    "### Load glycerol data"
   ]
  },
  {
   "cell_type": "code",
   "execution_count": null,
   "metadata": {},
   "outputs": [],
   "source": [
    "# load glycerol growth data\n",
    "glycerol_growth_df = pd.read_csv('../data/growth_curves/glycerol_growth_data.csv')\n",
    "\n",
    "glycerol_growth_df"
   ]
  },
  {
   "cell_type": "markdown",
   "metadata": {},
   "source": [
    "### Calculate glycerol parameters"
   ]
  },
  {
   "cell_type": "code",
   "execution_count": null,
   "metadata": {},
   "outputs": [],
   "source": [
    "glycerol_growth_parameters = get_average_growth_parameters(growth_df=glycerol_growth_df, substrate='glycerol', molar_mass=92.09)"
   ]
  },
  {
   "cell_type": "markdown",
   "metadata": {},
   "source": [
    "### Load oleic acid growth curve data"
   ]
  },
  {
   "cell_type": "code",
   "execution_count": null,
   "metadata": {},
   "outputs": [],
   "source": [
    "# load oleic acid growth data\n",
    "oleic_acid_growth_df = pd.read_csv('../data/growth_curves/oleic_acid_growth_data.csv')\n",
    "\n",
    "oleic_acid_growth_df"
   ]
  },
  {
   "cell_type": "markdown",
   "metadata": {},
   "source": [
    "### Get oleic acid growth parameters"
   ]
  },
  {
   "cell_type": "code",
   "execution_count": null,
   "metadata": {},
   "outputs": [],
   "source": [
    "oleic_acid_growth_parameters = get_average_growth_parameters(growth_df=oleic_acid_growth_df, substrate='oleic_acid', molar_mass=282.46)"
   ]
  },
  {
   "cell_type": "markdown",
   "metadata": {},
   "source": [
    "### Extrapolate glucose and glycerol yields to oleic acid"
   ]
  },
  {
   "cell_type": "code",
   "execution_count": null,
   "metadata": {},
   "outputs": [],
   "source": [
    "# get the average yield coefficient normalized to number by carbon atoms (based on yield coefficients of glucose and glycerol)\n",
    "glucose_yield_coefficient_per_c = glucose_growth_parameters['yield_coefficient'] / 6\n",
    "glycerol_yield_coefficient_per_c = glycerol_growth_parameters['yield_coefficient'] / 3\n",
    "average_yield_coefficient_per_c = (glucose_yield_coefficient_per_c + glycerol_yield_coefficient_per_c) / 2\n",
    "\n",
    "# Get the standard deviation of  oleic acid yield coefficient normalized to number by carbon atoms \n",
    "glucose_yield_coefficient_per_c_std = glucose_growth_parameters['yield_coefficient_std'] / 6\n",
    "glycerol_yield_coefficient_per_c_std = glycerol_growth_parameters['yield_coefficient_std'] / 3\n",
    "\n",
    "# Calculating pooled standard deviation\n",
    "average_yield_coefficient_per_c_std = (glucose_yield_coefficient_per_c_std**2 + glycerol_yield_coefficient_per_c_std**2)**0.5 / 2\n",
    "\n",
    "# extrapolate the average yield coefficient to oleic acid (18 carbons)\n",
    "oleic_acid_yield_coefficient = average_yield_coefficient_per_c * 18\n",
    "oleic_acid_yield_coefficient_std = average_yield_coefficient_per_c_std * 18\n",
    "\n",
    "# add the oleic acid yield coefficient to the growth parameters dictionary\n",
    "oleic_acid_growth_parameters['yield_coefficient'] = oleic_acid_yield_coefficient\n",
    "oleic_acid_growth_parameters['yield_coefficient_std'] = oleic_acid_yield_coefficient_std\n",
    "\n",
    "print(f'oleic acid yield coefficient = {oleic_acid_yield_coefficient:.3f} ± {oleic_acid_yield_coefficient_std:.3f} g biomass/mmol oleic acid')"
   ]
  },
  {
   "cell_type": "markdown",
   "metadata": {},
   "source": [
    "### Calculate oleic acid substrate uptake rate"
   ]
  },
  {
   "cell_type": "code",
   "execution_count": null,
   "metadata": {},
   "outputs": [],
   "source": [
    "# calculate the substrate uptake rate\n",
    "substrate_uptake_rate = oleic_acid_growth_parameters['growth_rate'] / oleic_acid_growth_parameters['yield_coefficient']\n",
    "\n",
    "# calculate the standard deviation of the substrate uptake rate\n",
    "partial_mu = 1 / oleic_acid_growth_parameters['yield_coefficient']\n",
    "partial_Y = -oleic_acid_growth_parameters['growth_rate'] / (oleic_acid_growth_parameters['yield_coefficient'] ** 2)\n",
    "substrate_uptake_rate_std = ((partial_mu * oleic_acid_growth_parameters['growth_rate_std']) ** 2 + (partial_Y * oleic_acid_growth_parameters['yield_coefficient_std']) ** 2) ** 0.5\n",
    "\n",
    "# add the substrate uptake rate to the growth parameters dictionary\n",
    "oleic_acid_growth_parameters['substrate_uptake_rate'] = substrate_uptake_rate\n",
    "oleic_acid_growth_parameters['substrate_uptake_rate_std'] = substrate_uptake_rate_std\n",
    "\n",
    "print(f'oleic acid substrate uptake rate = {substrate_uptake_rate:.3f} ± {substrate_uptake_rate_std:.3f} mmol oleic acid/gram biomass * hr')"
   ]
  },
  {
   "cell_type": "markdown",
   "metadata": {},
   "source": [
    "### Save measured biomass yields as a csv"
   ]
  },
  {
   "cell_type": "code",
   "execution_count": null,
   "metadata": {},
   "outputs": [],
   "source": [
    "# generate a dataframe of the average growth parameters\n",
    "average_growth_parameters_df = pd.DataFrame({\n",
    "    'glucose': glucose_growth_parameters,\n",
    "    'glycerol': glycerol_growth_parameters,\n",
    "    'oleic_acid': oleic_acid_growth_parameters\n",
    "})\n",
    "\n",
    "# save as a csv\n",
    "average_growth_parameters_df.to_csv('../results/growth_parameters/growth_parameters.csv')\n",
    "\n",
    "average_growth_parameters_df\n"
   ]
  }
 ],
 "metadata": {
  "kernelspec": {
   "display_name": "venv",
   "language": "python",
   "name": "python3"
  },
  "language_info": {
   "codemirror_mode": {
    "name": "ipython",
    "version": 3
   },
   "file_extension": ".py",
   "mimetype": "text/x-python",
   "name": "python",
   "nbconvert_exporter": "python",
   "pygments_lexer": "ipython3",
   "version": "3.10.2"
  },
  "orig_nbformat": 4
 },
 "nbformat": 4,
 "nbformat_minor": 2
}
