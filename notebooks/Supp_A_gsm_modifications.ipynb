{
 "cells": [
  {
   "attachments": {},
   "cell_type": "markdown",
   "metadata": {},
   "source": [
    "# Supplemental Notebook A: Gene Annotation Correction in GSM iYLI647\n",
    "This Jupyter notebook is dedicated to correcting minor errors in gene annotations within the iYLI647 Genome-Scale Model (GSM) of Yarrowia lipolytica, ensuring that the gene mapping aligns accurately with transcriptomic data.\n",
    "\n",
    "Objective\n",
    "The primary goal is to refine the GSM by:\n",
    "- Identifying and correcting duplicate gene entries in the GSM.\n",
    "- Removing genes not present in the transcriptomics dataset.\n",
    "- Fixing typographical errors in gene IDs.\n",
    "- Analyzing and adjusting the biomass composition in the model for consistency."
   ]
  },
  {
   "cell_type": "code",
   "execution_count": 1,
   "metadata": {},
   "outputs": [],
   "source": [
    "import cobra"
   ]
  },
  {
   "attachments": {},
   "cell_type": "markdown",
   "metadata": {},
   "source": [
    "### Load genome scale model"
   ]
  },
  {
   "cell_type": "code",
   "execution_count": 2,
   "metadata": {},
   "outputs": [
    {
     "data": {
      "text/html": [
       "\n",
       "        <table>\n",
       "            <tr>\n",
       "                <td><strong>Name</strong></td>\n",
       "                <td>model</td>\n",
       "            </tr><tr>\n",
       "                <td><strong>Memory address</strong></td>\n",
       "                <td>14a397790</td>\n",
       "            </tr><tr>\n",
       "                <td><strong>Number of metabolites</strong></td>\n",
       "                <td>1121</td>\n",
       "            </tr><tr>\n",
       "                <td><strong>Number of reactions</strong></td>\n",
       "                <td>1348</td>\n",
       "            </tr><tr>\n",
       "                <td><strong>Number of genes</strong></td>\n",
       "                <td>646</td>\n",
       "            </tr><tr>\n",
       "                <td><strong>Number of groups</strong></td>\n",
       "                <td>0</td>\n",
       "            </tr><tr>\n",
       "                <td><strong>Objective expression</strong></td>\n",
       "                <td>1.0*biomass_C - 1.0*biomass_C_reverse_c1d5c</td>\n",
       "            </tr><tr>\n",
       "                <td><strong>Compartments</strong></td>\n",
       "                <td>c, e, m, n, x, r, g, v</td>\n",
       "            </tr>\n",
       "          </table>"
      ],
      "text/plain": [
       "<Model model at 0x14a397790>"
      ]
     },
     "execution_count": 2,
     "metadata": {},
     "output_type": "execute_result"
    }
   ],
   "source": [
    "model = cobra.io.json.load_json_model(\"../genome_scale_models/iYLI647_corr.json\")\n",
    "model"
   ]
  },
  {
   "cell_type": "markdown",
   "metadata": {},
   "source": [
    "### Add malate synthase reaction to the cytosol"
   ]
  },
  {
   "cell_type": "code",
   "execution_count": 3,
   "metadata": {},
   "outputs": [
    {
     "data": {
      "text/html": [
       "\n",
       "        <table>\n",
       "            <tr>\n",
       "                <td><strong>Reaction identifier</strong></td><td>MALS</td>\n",
       "            </tr><tr>\n",
       "                <td><strong>Name</strong></td><td>Malate synthase</td>\n",
       "            </tr><tr>\n",
       "                <td><strong>Memory address</strong></td>\n",
       "                <td>0x1767ca350</td>\n",
       "            </tr><tr>\n",
       "                <td><strong>Stoichiometry</strong></td>\n",
       "                <td>\n",
       "                    <p style='text-align:right'>accoa[c] + glx[c] + h2o[c] --> coa[c] + h[c] + mal_L[c]</p>\n",
       "                    <p style='text-align:right'>Acetyl_CoA + Glyoxylate + H2O --> Coenzyme_A + H + L_Malate</p>\n",
       "                </td>\n",
       "            </tr><tr>\n",
       "                <td><strong>GPR</strong></td><td></td>\n",
       "            </tr><tr>\n",
       "                <td><strong>Lower bound</strong></td><td>0</td>\n",
       "            </tr><tr>\n",
       "                <td><strong>Upper bound</strong></td><td>1000</td>\n",
       "            </tr>\n",
       "        </table>\n",
       "        "
      ],
      "text/plain": [
       "<Reaction MALS at 0x1767ca350>"
      ]
     },
     "execution_count": 3,
     "metadata": {},
     "output_type": "execute_result"
    }
   ],
   "source": [
    "mals = cobra.Reaction('MALS')\n",
    "mals.name = 'Malate synthase'\n",
    "mals.subsystem = 'Glyoxylate metabolism'\n",
    "mals.lower_bound = 0  # This is the default in COBRApy for irreversible reactions\n",
    "mals.upper_bound = 1000  # This is a common upper bound for reactions in COBRApy\n",
    "\n",
    "# Add metabolites to the reaction with their stoichiometry\n",
    "mals.add_metabolites({\n",
    "    model.metabolites.get_by_id('accoa[c]'): -1.0,  # Reactant, so negative stoichiometry\n",
    "    model.metabolites.get_by_id('glx[c]'): -1.0,\n",
    "    model.metabolites.get_by_id('h2o[c]'): -1.0,\n",
    "    model.metabolites.get_by_id('coa[c]'): 1.0,  # Product, so positive stoichiometry\n",
    "    model.metabolites.get_by_id('h[c]'): 1.0,\n",
    "    model.metabolites.get_by_id('mal_L[c]'): 1.0\n",
    "})\n",
    "\n",
    "# Add the reaction to the model\n",
    "model.add_reactions([mals])\n",
    "\n",
    "model.reactions.get_by_id('MALS')"
   ]
  },
  {
   "cell_type": "markdown",
   "metadata": {},
   "source": [
    "### Allow for reversible flux through the carnitine shuttle"
   ]
  },
  {
   "cell_type": "code",
   "execution_count": 4,
   "metadata": {},
   "outputs": [
    {
     "name": "stdout",
     "output_type": "stream",
     "text": [
      "Old CRNCARtm bounds: (0.0, 1000.0)\n"
     ]
    },
    {
     "data": {
      "text/html": [
       "\n",
       "        <table>\n",
       "            <tr>\n",
       "                <td><strong>Reaction identifier</strong></td><td>CRNCARtm</td>\n",
       "            </tr><tr>\n",
       "                <td><strong>Name</strong></td><td>carnithine acetylcarnithine carrier mitochondrial</td>\n",
       "            </tr><tr>\n",
       "                <td><strong>Memory address</strong></td>\n",
       "                <td>0x176ac0730</td>\n",
       "            </tr><tr>\n",
       "                <td><strong>Stoichiometry</strong></td>\n",
       "                <td>\n",
       "                    <p style='text-align:right'>acrn[c] + crn[m] <=> acrn[m] + crn[c]</p>\n",
       "                    <p style='text-align:right'>O_Acetylcarnitine + L_Carnitine <=> O_Acetylcarnitine + L_Carnitine</p>\n",
       "                </td>\n",
       "            </tr><tr>\n",
       "                <td><strong>GPR</strong></td><td>YALI0C02431g</td>\n",
       "            </tr><tr>\n",
       "                <td><strong>Lower bound</strong></td><td>-1000</td>\n",
       "            </tr><tr>\n",
       "                <td><strong>Upper bound</strong></td><td>1000</td>\n",
       "            </tr>\n",
       "        </table>\n",
       "        "
      ],
      "text/plain": [
       "<Reaction CRNCARtm at 0x176ac0730>"
      ]
     },
     "metadata": {},
     "output_type": "display_data"
    }
   ],
   "source": [
    "acetylcarnithine_carrier_reaction = model.reactions.get_by_id('CRNCARtm')\n",
    "old_bounds = acetylcarnithine_carrier_reaction.bounds\n",
    "\n",
    "# set new bounds\n",
    "acetylcarnithine_carrier_reaction.bounds = (-1000, 1000)\n",
    "\n",
    "print(f'Old CRNCARtm bounds: {old_bounds}')\n",
    "display(acetylcarnithine_carrier_reaction)\n"
   ]
  },
  {
   "cell_type": "code",
   "execution_count": 5,
   "metadata": {},
   "outputs": [
    {
     "name": "stdout",
     "output_type": "stream",
     "text": [
      "Old CSNAT bounds : (-1000, 1000)\n"
     ]
    },
    {
     "data": {
      "text/html": [
       "\n",
       "        <table>\n",
       "            <tr>\n",
       "                <td><strong>Reaction identifier</strong></td><td>CSNAT</td>\n",
       "            </tr><tr>\n",
       "                <td><strong>Name</strong></td><td>carnitine O acetyltransferase</td>\n",
       "            </tr><tr>\n",
       "                <td><strong>Memory address</strong></td>\n",
       "                <td>0x176ac0c70</td>\n",
       "            </tr><tr>\n",
       "                <td><strong>Stoichiometry</strong></td>\n",
       "                <td>\n",
       "                    <p style='text-align:right'>accoa[c] + crn[c] <=> acrn[c] + coa[c]</p>\n",
       "                    <p style='text-align:right'>Acetyl_CoA + L_Carnitine <=> O_Acetylcarnitine + Coenzyme_A</p>\n",
       "                </td>\n",
       "            </tr><tr>\n",
       "                <td><strong>GPR</strong></td><td></td>\n",
       "            </tr><tr>\n",
       "                <td><strong>Lower bound</strong></td><td>-1000</td>\n",
       "            </tr><tr>\n",
       "                <td><strong>Upper bound</strong></td><td>1000</td>\n",
       "            </tr>\n",
       "        </table>\n",
       "        "
      ],
      "text/plain": [
       "<Reaction CSNAT at 0x176ac0c70>"
      ]
     },
     "metadata": {},
     "output_type": "display_data"
    }
   ],
   "source": [
    "cytosolic_acetyltransferase = model.reactions.get_by_id('CSNAT')\n",
    "old_bounds = cytosolic_acetyltransferase.bounds\n",
    "\n",
    "# set new bounds\n",
    "cytosolic_acetyltransferase.bounds = (-1000, 1000)\n",
    "\n",
    "print(f'Old CSNAT bounds : {cytosolic_acetyltransferase.bounds}')\n",
    "display(cytosolic_acetyltransferase)"
   ]
  },
  {
   "cell_type": "markdown",
   "metadata": {},
   "source": [
    "### Add reactions for beta carotene production and transport\n",
    "\n",
    "The beta carotene production reaction is based on these reactions:\n",
    "```\n",
    "Farnesyltranstransferase (FRTT)      = 2 frdp[c] + 2 ipdp[c]   -> 2 ppi[c] + 2 ggdp[c]\n",
    "Phytoene synthase (PSY)              = 2 ggdp[c]               -> 1 phyto[c] + 2 ppi[c]\n",
    "4-step phytoene desaturase (PHYDS4S) = 1 phyto[c] + 4.0 nad[c] -> lycop[c] + 4.0 nadh[c]\n",
    "Lycopene cyclase (LYC)               = 1 lycop[c]              -> 1 caro[c]\n",
    "```"
   ]
  },
  {
   "cell_type": "code",
   "execution_count": 6,
   "metadata": {},
   "outputs": [
    {
     "data": {
      "text/html": [
       "\n",
       "        <table>\n",
       "            <tr>\n",
       "                <td><strong>Reaction identifier</strong></td><td>caro_prod</td>\n",
       "            </tr><tr>\n",
       "                <td><strong>Name</strong></td><td></td>\n",
       "            </tr><tr>\n",
       "                <td><strong>Memory address</strong></td>\n",
       "                <td>0x16c4475e0</td>\n",
       "            </tr><tr>\n",
       "                <td><strong>Stoichiometry</strong></td>\n",
       "                <td>\n",
       "                    <p style='text-align:right'>2.0 frdp[c] + 2.0 ipdp[c] + 4.0 nad[c] --> caro[c] + 4.0 nadh[c] + 4.0 ppi[c]</p>\n",
       "                    <p style='text-align:right'>2.0 Farnesyl_diphosphate + 2.0 Isopentenyl_diphosphate + 4.0 Nicotinamide_adenine_dinucleotide --> + 4.0 Nicotinamide_adenine_dinucleotide___reduced + 4.0 Diphosphate</p>\n",
       "                </td>\n",
       "            </tr><tr>\n",
       "                <td><strong>GPR</strong></td><td></td>\n",
       "            </tr><tr>\n",
       "                <td><strong>Lower bound</strong></td><td>0</td>\n",
       "            </tr><tr>\n",
       "                <td><strong>Upper bound</strong></td><td>1000.0</td>\n",
       "            </tr>\n",
       "        </table>\n",
       "        "
      ],
      "text/plain": [
       "<Reaction caro_prod at 0x16c4475e0>"
      ]
     },
     "execution_count": 6,
     "metadata": {},
     "output_type": "execute_result"
    }
   ],
   "source": [
    "# create beta carotene metabolite\n",
    "model.add_metabolites([ \n",
    "    cobra.Metabolite('caro[c]'), # Beta carotene\n",
    "])\n",
    "\n",
    "# create beta carotene production and exchange reactions\n",
    "carotene_production = cobra.Reaction('caro_prod') # Beta-carotene production\n",
    "EX_caro_e = cobra.Reaction('EX_caro_e') # Beta-carotene exchange\n",
    "\n",
    "# add metabolites to the reactions\n",
    "model.add_reactions([carotene_production, EX_caro_e])\n",
    "\n",
    "# Define reaction equations\n",
    "carotene_production.reaction = '2 frdp[c] + 2 ipdp[c] + 4 nad[c] -> 1 caro[c] + 4 ppi[c] + 4 nadh[c]'\n",
    "EX_caro_e.reaction = 'caro[c] -> '\n",
    "\n",
    "carotene_production"
   ]
  },
  {
   "attachments": {},
   "cell_type": "markdown",
   "metadata": {},
   "source": [
    "### Fix reaction that has a duplicate gene"
   ]
  },
  {
   "cell_type": "code",
   "execution_count": 7,
   "metadata": {},
   "outputs": [
    {
     "name": "stdout",
     "output_type": "stream",
     "text": [
      "YALI0B02728g or (YALI0D09229g and YALI0D09229g)\n"
     ]
    },
    {
     "data": {
      "text/html": [
       "\n",
       "        <table>\n",
       "            <tr>\n",
       "                <td><strong>Reaction identifier</strong></td><td>DPGM</td>\n",
       "            </tr><tr>\n",
       "                <td><strong>Name</strong></td><td>Diphosphoglyceromutase</td>\n",
       "            </tr><tr>\n",
       "                <td><strong>Memory address</strong></td>\n",
       "                <td>0x176b1a560</td>\n",
       "            </tr><tr>\n",
       "                <td><strong>Stoichiometry</strong></td>\n",
       "                <td>\n",
       "                    <p style='text-align:right'>13dpg[c] <=> 23dpg[c] + h[c]</p>\n",
       "                    <p style='text-align:right'>3_Phospho_D_glyceroyl_phosphate <=> 2_3_Disphospho_D_glycerate + H</p>\n",
       "                </td>\n",
       "            </tr><tr>\n",
       "                <td><strong>GPR</strong></td><td>YALI0B02728g or YALI0D09229g</td>\n",
       "            </tr><tr>\n",
       "                <td><strong>Lower bound</strong></td><td>-1000.0</td>\n",
       "            </tr><tr>\n",
       "                <td><strong>Upper bound</strong></td><td>1000.0</td>\n",
       "            </tr>\n",
       "        </table>\n",
       "        "
      ],
      "text/plain": [
       "<Reaction DPGM at 0x176b1a560>"
      ]
     },
     "metadata": {},
     "output_type": "display_data"
    }
   ],
   "source": [
    "# fix Diphosphoglyceromutase gene_reaction_rule\n",
    "print(model.reactions.DPGM.gene_reaction_rule)\n",
    "\n",
    "# remove duplicate genes\n",
    "model.reactions.DPGM.gene_reaction_rule = 'YALI0B02728g or YALI0D09229g'\n",
    "\n",
    "display(model.reactions.DPGM)"
   ]
  },
  {
   "attachments": {},
   "cell_type": "markdown",
   "metadata": {},
   "source": [
    "### Remove genes that are not in the transcriptomics data set"
   ]
  },
  {
   "cell_type": "code",
   "execution_count": 8,
   "metadata": {},
   "outputs": [
    {
     "name": "stdout",
     "output_type": "stream",
     "text": [
      "YALI0E10144g and YALI0E12628g and YALI0E16709g and YALI0E19723g and YALI0F03201g and YALI0F03567g and YALI0F04103g and YALI0F04\n"
     ]
    },
    {
     "data": {
      "text/html": [
       "\n",
       "        <table>\n",
       "            <tr>\n",
       "                <td><strong>Reaction identifier</strong></td><td>CYOOm</td>\n",
       "            </tr><tr>\n",
       "                <td><strong>Name</strong></td><td>cytochrome c oxidase mitochondrial</td>\n",
       "            </tr><tr>\n",
       "                <td><strong>Memory address</strong></td>\n",
       "                <td>0x176c78d30</td>\n",
       "            </tr><tr>\n",
       "                <td><strong>Stoichiometry</strong></td>\n",
       "                <td>\n",
       "                    <p style='text-align:right'>4.0 focytc[m] + 6.0 h[m] + o2[m] --> 4.0 ficytc[m] + 2.0 h2o[m] + 6.0 h[c]</p>\n",
       "                    <p style='text-align:right'>4.0 Ferrocytochrome_c + 6.0 H + O2 --> 4.0 Ferricytochrome_c + 2.0 H2O + 6.0 H</p>\n",
       "                </td>\n",
       "            </tr><tr>\n",
       "                <td><strong>GPR</strong></td><td>YALI0E10144g and YALI0E12628g and YALI0E16709g and YALI0E19723g and YALI0F03201g and YALI0F03567g...</td>\n",
       "            </tr><tr>\n",
       "                <td><strong>Lower bound</strong></td><td>0.0</td>\n",
       "            </tr><tr>\n",
       "                <td><strong>Upper bound</strong></td><td>1000.0</td>\n",
       "            </tr>\n",
       "        </table>\n",
       "        "
      ],
      "text/plain": [
       "<Reaction CYOOm at 0x176c78d30>"
      ]
     },
     "metadata": {},
     "output_type": "display_data"
    }
   ],
   "source": [
    "# fix cytochrome c oxidase mitochondrial gene_reaction_rule\n",
    "print(model.reactions.CYOOm.gene_reaction_rule)\n",
    "\n",
    "# remove misanotated gene (YALI0F04)\n",
    "model.reactions.CYOOm.gene_reaction_rule = 'YALI0E10144g and YALI0E12628g and YALI0E16709g and YALI0E19723g and YALI0F03201g and YALI0F03567g and YALI0F04103g'\n",
    "\n",
    "display(model.reactions.CYOOm)"
   ]
  },
  {
   "cell_type": "code",
   "execution_count": 9,
   "metadata": {},
   "outputs": [
    {
     "name": "stdout",
     "output_type": "stream",
     "text": [
      "YALI0A02915g and YALI0A17468g and YALI0B01540g and YALI0C12210g and YALI0E34037g and YALI0F01771g and YALI0F08613g and YALI0F24\n"
     ]
    },
    {
     "data": {
      "text/html": [
       "\n",
       "        <table>\n",
       "            <tr>\n",
       "                <td><strong>Reaction identifier</strong></td><td>CYOR_u6m</td>\n",
       "            </tr><tr>\n",
       "                <td><strong>Name</strong></td><td>ubiquinol 6 cytochrome c reductase</td>\n",
       "            </tr><tr>\n",
       "                <td><strong>Memory address</strong></td>\n",
       "                <td>0x176c7a680</td>\n",
       "            </tr><tr>\n",
       "                <td><strong>Stoichiometry</strong></td>\n",
       "                <td>\n",
       "                    <p style='text-align:right'>2.0 ficytc[m] + 1.5 h[m] + q6h2[m] --> 2.0 focytc[m] + 1.5 h[c] + q6[m]</p>\n",
       "                    <p style='text-align:right'>2.0 Ferricytochrome_c + 1.5 H + Ubiquinol_6 --> 2.0 Ferrocytochrome_c + 1.5 H + Ubiquinone_6</p>\n",
       "                </td>\n",
       "            </tr><tr>\n",
       "                <td><strong>GPR</strong></td><td>YALI0A02915g and YALI0A17468g and YALI0B01540g and YALI0C12210g and YALI0E34037g and YALI0F01771g...</td>\n",
       "            </tr><tr>\n",
       "                <td><strong>Lower bound</strong></td><td>0.0</td>\n",
       "            </tr><tr>\n",
       "                <td><strong>Upper bound</strong></td><td>1000.0</td>\n",
       "            </tr>\n",
       "        </table>\n",
       "        "
      ],
      "text/plain": [
       "<Reaction CYOR_u6m at 0x176c7a680>"
      ]
     },
     "metadata": {},
     "output_type": "display_data"
    }
   ],
   "source": [
    "# ubiquinol 6 cytochrome c reductase gene_reaction_rule\n",
    "print(model.reactions.CYOR_u6m.gene_reaction_rule)\n",
    "\n",
    "# remove misanotated gene (YALI0F24)\n",
    "model.reactions.CYOR_u6m.gene_reaction_rule = 'YALI0A02915g and YALI0A17468g and YALI0B01540g and YALI0C12210g and YALI0E34037g and YALI0F01771g and YALI0F08613g'\n",
    "\n",
    "display(model.reactions.CYOR_u6m)"
   ]
  },
  {
   "attachments": {},
   "cell_type": "markdown",
   "metadata": {},
   "source": [
    "### Fix gene ids that have typos"
   ]
  },
  {
   "cell_type": "code",
   "execution_count": 10,
   "metadata": {},
   "outputs": [
    {
     "name": "stdout",
     "output_type": "stream",
     "text": [
      "YALI0C20265g or YALIB02544g\n"
     ]
    },
    {
     "data": {
      "text/html": [
       "\n",
       "        <table>\n",
       "            <tr>\n",
       "                <td><strong>Reaction identifier</strong></td><td>HCAt</td>\n",
       "            </tr><tr>\n",
       "                <td><strong>Name</strong></td><td>Hexanoate n C60 transport in via uniport YL</td>\n",
       "            </tr><tr>\n",
       "                <td><strong>Memory address</strong></td>\n",
       "                <td>0x17703da20</td>\n",
       "            </tr><tr>\n",
       "                <td><strong>Stoichiometry</strong></td>\n",
       "                <td>\n",
       "                    <p style='text-align:right'>hdca[e] --> hdca[c]</p>\n",
       "                    <p style='text-align:right'>Hexadecanoate__n_C160_ --> Hexadecanoate__n_C160_</p>\n",
       "                </td>\n",
       "            </tr><tr>\n",
       "                <td><strong>GPR</strong></td><td>YALI0C20265g or YALI0B02544g</td>\n",
       "            </tr><tr>\n",
       "                <td><strong>Lower bound</strong></td><td>0.0</td>\n",
       "            </tr><tr>\n",
       "                <td><strong>Upper bound</strong></td><td>1000.0</td>\n",
       "            </tr>\n",
       "        </table>\n",
       "        "
      ],
      "text/plain": [
       "<Reaction HCAt at 0x17703da20>"
      ]
     },
     "metadata": {},
     "output_type": "display_data"
    }
   ],
   "source": [
    "# fix typo in hexadecanoate transport gene_reaction_rule\n",
    "print(model.reactions.HCAt.gene_reaction_rule)\n",
    "\n",
    "# fix typo (YALIB02544g)\n",
    "model.reactions.HCAt.gene_reaction_rule = 'YALI0C20265g or YALI0B02544g'\n",
    "\n",
    "display(model.reactions.HCAt)"
   ]
  },
  {
   "cell_type": "code",
   "execution_count": 11,
   "metadata": {},
   "outputs": [
    {
     "name": "stdout",
     "output_type": "stream",
     "text": [
      "YALI0C20265g or YALIB02544g\n"
     ]
    },
    {
     "data": {
      "text/html": [
       "\n",
       "        <table>\n",
       "            <tr>\n",
       "                <td><strong>Reaction identifier</strong></td><td>dca_t</td>\n",
       "            </tr><tr>\n",
       "                <td><strong>Name</strong></td><td>decanoate transport in via uniport</td>\n",
       "            </tr><tr>\n",
       "                <td><strong>Memory address</strong></td>\n",
       "                <td>0x17703e2f0</td>\n",
       "            </tr><tr>\n",
       "                <td><strong>Stoichiometry</strong></td>\n",
       "                <td>\n",
       "                    <p style='text-align:right'>dca[e] --> dca[c]</p>\n",
       "                    <p style='text-align:right'>Decanoate__n_C100_ --> Decanoate__n_C100_</p>\n",
       "                </td>\n",
       "            </tr><tr>\n",
       "                <td><strong>GPR</strong></td><td>YALI0C20265g or YALI0B02544g</td>\n",
       "            </tr><tr>\n",
       "                <td><strong>Lower bound</strong></td><td>0.0</td>\n",
       "            </tr><tr>\n",
       "                <td><strong>Upper bound</strong></td><td>1000.0</td>\n",
       "            </tr>\n",
       "        </table>\n",
       "        "
      ],
      "text/plain": [
       "<Reaction dca_t at 0x17703e2f0>"
      ]
     },
     "metadata": {},
     "output_type": "display_data"
    }
   ],
   "source": [
    "# fix typo in decanoate transport gene_reaction_rule\n",
    "print(model.reactions.dca_t.gene_reaction_rule)\n",
    "\n",
    "# fix typo (YALIB02544g)\n",
    "model.reactions.dca_t.gene_reaction_rule = 'YALI0C20265g or YALI0B02544g'\n",
    "\n",
    "display(model.reactions.dca_t)"
   ]
  },
  {
   "cell_type": "code",
   "execution_count": 12,
   "metadata": {},
   "outputs": [
    {
     "name": "stdout",
     "output_type": "stream",
     "text": [
      "YALI00F26587g\n"
     ]
    },
    {
     "data": {
      "text/html": [
       "\n",
       "        <table>\n",
       "            <tr>\n",
       "                <td><strong>Reaction identifier</strong></td><td>ACACCT</td>\n",
       "            </tr><tr>\n",
       "                <td><strong>Name</strong></td><td>Acetyl-CoA:acetoacetyl-CoA transferase</td>\n",
       "            </tr><tr>\n",
       "                <td><strong>Memory address</strong></td>\n",
       "                <td>0x1770998a0</td>\n",
       "            </tr><tr>\n",
       "                <td><strong>Stoichiometry</strong></td>\n",
       "                <td>\n",
       "                    <p style='text-align:right'>acac[c] + accoa[c] --> aacoa[c] + ac[c]</p>\n",
       "                    <p style='text-align:right'>Acetoacetate + Acetyl_CoA --> Acetoacetyl_CoA + Acetate</p>\n",
       "                </td>\n",
       "            </tr><tr>\n",
       "                <td><strong>GPR</strong></td><td>YALI0F26587g</td>\n",
       "            </tr><tr>\n",
       "                <td><strong>Lower bound</strong></td><td>0.0</td>\n",
       "            </tr><tr>\n",
       "                <td><strong>Upper bound</strong></td><td>1000.0</td>\n",
       "            </tr>\n",
       "        </table>\n",
       "        "
      ],
      "text/plain": [
       "<Reaction ACACCT at 0x1770998a0>"
      ]
     },
     "metadata": {},
     "output_type": "display_data"
    }
   ],
   "source": [
    "# fix typo in Acetyl-CoA:acetoacetyl-CoA transferase gene_reaction_rule\n",
    "print(model.reactions.ACACCT.gene_reaction_rule)\n",
    "\n",
    "# fix typo (YALI00F26587g)\n",
    "model.reactions.ACACCT.gene_reaction_rule = 'YALI0F26587g'\n",
    "\n",
    "display(model.reactions.ACACCT)"
   ]
  },
  {
   "attachments": {},
   "cell_type": "markdown",
   "metadata": {},
   "source": [
    "### Save the updated model"
   ]
  },
  {
   "cell_type": "code",
   "execution_count": 13,
   "metadata": {},
   "outputs": [
    {
     "data": {
      "text/html": [
       "\n",
       "        <table>\n",
       "            <tr>\n",
       "                <td><strong>Name</strong></td>\n",
       "                <td>model</td>\n",
       "            </tr><tr>\n",
       "                <td><strong>Memory address</strong></td>\n",
       "                <td>14a397790</td>\n",
       "            </tr><tr>\n",
       "                <td><strong>Number of metabolites</strong></td>\n",
       "                <td>1122</td>\n",
       "            </tr><tr>\n",
       "                <td><strong>Number of reactions</strong></td>\n",
       "                <td>1351</td>\n",
       "            </tr><tr>\n",
       "                <td><strong>Number of genes</strong></td>\n",
       "                <td>648</td>\n",
       "            </tr><tr>\n",
       "                <td><strong>Number of groups</strong></td>\n",
       "                <td>0</td>\n",
       "            </tr><tr>\n",
       "                <td><strong>Objective expression</strong></td>\n",
       "                <td>1.0*biomass_C - 1.0*biomass_C_reverse_c1d5c</td>\n",
       "            </tr><tr>\n",
       "                <td><strong>Compartments</strong></td>\n",
       "                <td>c, e, m, n, x, r, g, v</td>\n",
       "            </tr>\n",
       "          </table>"
      ],
      "text/plain": [
       "<Model model at 0x14a397790>"
      ]
     },
     "execution_count": 13,
     "metadata": {},
     "output_type": "execute_result"
    }
   ],
   "source": [
    "# save the updated model\n",
    "cobra.io.save_json_model(model, \"../genome_scale_models/iYLI647_corr_2.json\")\n",
    "model"
   ]
  }
 ],
 "metadata": {
  "kernelspec": {
   "display_name": "venv",
   "language": "python",
   "name": "python3"
  },
  "language_info": {
   "codemirror_mode": {
    "name": "ipython",
    "version": 3
   },
   "file_extension": ".py",
   "mimetype": "text/x-python",
   "name": "python",
   "nbconvert_exporter": "python",
   "pygments_lexer": "ipython3",
   "version": "3.10.2"
  },
  "orig_nbformat": 4
 },
 "nbformat": 4,
 "nbformat_minor": 2
}
